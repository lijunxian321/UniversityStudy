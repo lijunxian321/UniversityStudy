{
  "nbformat": 4,
  "nbformat_minor": 0,
  "metadata": {
    "colab": {
      "provenance": []
    },
    "kernelspec": {
      "name": "python3",
      "display_name": "Python 3"
    },
    "language_info": {
      "name": "python"
    }
  },
  "cells": [
    {
      "cell_type": "code",
      "execution_count": null,
      "metadata": {
        "colab": {
          "base_uri": "https://localhost:8080/"
        },
        "id": "qJ_9TnbMOHIH",
        "outputId": "c8e02395-1925-4412-cbe7-a62f4acc2a2d"
      },
      "outputs": [
        {
          "output_type": "stream",
          "name": "stdout",
          "text": [
            "변환하고 싶은 화폐를 입력하세요: 미국 달러(USD)\n",
            "원하는 화폐를 입력하세요: 대한민국 원(KRW)\n",
            "금액을 입력하세요: 504245\n",
            "입력한 변환 화폐가 유효하지 않습니다.\n"
          ]
        }
      ],
      "source": [
        "import requests\n",
        "\n",
        "# 네이버 금융에서 환율 정보 가져오기\n",
        "url = \"https://finance.naver.com/marketindex/exchangeList.naver\"\n",
        "response = requests.get(url)\n",
        "print(response)\n",
        "# HTML에서 환율 정보 추출하기\n",
        "exchange_rates = {}\n",
        "for line in response.text.split(\"\\n\"):\n",
        "    if \"<td><a href\" in line:\n",
        "        items = line.split(\"</a></td>\")\n",
        "        country = items[0].split(\">\")[1]\n",
        "        rate = float(items[1].split(\">\")[1].replace(\",\", \"\"))\n",
        "        exchange_rates[country] = rate\n",
        "\n",
        "# 사용자로부터 입력받은 값으로 환율 계산하기\n",
        "from_currency = input(\"변환하고 싶은 화폐를 입력하세요: \")\n",
        "to_currency = input(\"원하는 화폐를 입력하세요: \")\n",
        "amount = input(\"금액을 입력하세요: \")\n",
        "\n",
        "# 입력한 화폐 정보가 유효하지 않은 경우 에러 메시지 출력하기\n",
        "if from_currency not in exchange_rates:\n",
        "    print(\"입력한 변환 화폐가 유효하지 않습니다.\")\n",
        "elif to_currency not in exchange_rates:\n",
        "    print(\"입력한 원하는 화폐가 유효하지 않습니다.\")\n",
        "else:\n",
        "    try:\n",
        "        amount = float(amount)\n",
        "    except ValueError:\n",
        "        print(\"입력한 금액이 유효하지 않습니다.\")\n",
        "    else:\n",
        "        from_rate = exchange_rates[from_currency]\n",
        "        to_rate = exchange_rates[to_currency]\n",
        "        result = amount / from_rate * to_rate\n",
        "        print(\"{:.2f} {}은(는) {:.2f} {}입니다.\".format(amount, from_currency, result, to_currency))\n"
      ]
    },
    {
      "cell_type": "code",
      "source": [
        "import requests\n",
        "# 네이버 금융에서 환율 정보 가져오기\n",
        "url = \"https://finance.naver.com/marketindex/exchangeList.naver\"\n",
        "response = requests.get(url)\n",
        "\n",
        "# HTML에서 환율 정보 추출하기\n",
        "exchange_rates = {}\n",
        "for line in response.text.split(\"\\n\"):\n",
        "    if \"<td><a href\" in line:\n",
        "        items = line.split(\"</a></td>\")\n",
        "        country = items[0].split(\">\")[1]\n",
        "        rate = float(items[1].split(\">\")[1].replace(\",\", \"\"))\n",
        "        exchange_rates[country] = rate\n",
        "exchange_rates"
      ],
      "metadata": {
        "colab": {
          "base_uri": "https://localhost:8080/"
        },
        "id": "ded6XNOcQKHO",
        "outputId": "4600988c-6c72-4781-9879-93c3c01fe707"
      },
      "execution_count": null,
      "outputs": [
        {
          "output_type": "stream",
          "name": "stdout",
          "text": [
            "<Response [200]>\n"
          ]
        },
        {
          "output_type": "execute_result",
          "data": {
            "text/plain": [
              "{}"
            ]
          },
          "metadata": {},
          "execution_count": 9
        }
      ]
    },
    {
      "cell_type": "code",
      "source": [
        "import requests\n",
        "\n",
        "# fixer.io에서 환율 정보 가져오기\n",
        "api_key = \"YOUR_API_KEY\"  # fixer.io에서 발급받은 API 키 입력\n",
        "base_url = \"http://data.fixer.io/api/latest\"\n",
        "params = {\"access_key\": api_key}\n",
        "response = requests.get(base_url, params=params)\n",
        "exchange_rates = response.json()[\"rates\"]\n",
        "\n",
        "# 사용자로부터 입력받은 값으로 환율 계산하기\n",
        "from_currency = input(\"변환하고 싶은 화폐를 입력하세요: \")\n",
        "to_currency = input(\"원하는 화폐를 입력하세요: \")\n",
        "amount = float(input(\"금액을 입력하세요: \"))\n",
        "\n",
        "# 입력한 화폐 정보가 유효하지 않은 경우 에러 메시지 출력하기\n",
        "if from_currency not in exchange_rates:\n",
        "    print(\"입력한 변환 화폐가 유효하지 않습니다.\")\n",
        "elif to_currency not in exchange_rates:\n",
        "    print(\"입력한 원하는 화폐가 유효하지 않습니다.\")\n",
        "else:\n",
        "    from_rate = exchange_rates[from_currency]\n",
        "    to_rate = exchange_rates[to_currency]\n",
        "    result = amount / from_rate * to_rate\n",
        "    print(\"{:.2f} {}은(는) {:.2f} {}입니다.\".format(amount, from_currency, result, to_currency))\n"
      ],
      "metadata": {
        "colab": {
          "base_uri": "https://localhost:8080/",
          "height": 244
        },
        "id": "jodsHoxRRsBf",
        "outputId": "916a009a-130d-428f-8173-464ec8df64ad"
      },
      "execution_count": null,
      "outputs": [
        {
          "output_type": "error",
          "ename": "KeyError",
          "evalue": "ignored",
          "traceback": [
            "\u001b[0;31m---------------------------------------------------------------------------\u001b[0m",
            "\u001b[0;31mKeyError\u001b[0m                                  Traceback (most recent call last)",
            "\u001b[0;32m<ipython-input-11-a1fde7f390d8>\u001b[0m in \u001b[0;36m<cell line: 8>\u001b[0;34m()\u001b[0m\n\u001b[1;32m      6\u001b[0m \u001b[0mparams\u001b[0m \u001b[0;34m=\u001b[0m \u001b[0;34m{\u001b[0m\u001b[0;34m\"access_key\"\u001b[0m\u001b[0;34m:\u001b[0m \u001b[0mapi_key\u001b[0m\u001b[0;34m}\u001b[0m\u001b[0;34m\u001b[0m\u001b[0;34m\u001b[0m\u001b[0m\n\u001b[1;32m      7\u001b[0m \u001b[0mresponse\u001b[0m \u001b[0;34m=\u001b[0m \u001b[0mrequests\u001b[0m\u001b[0;34m.\u001b[0m\u001b[0mget\u001b[0m\u001b[0;34m(\u001b[0m\u001b[0mbase_url\u001b[0m\u001b[0;34m,\u001b[0m \u001b[0mparams\u001b[0m\u001b[0;34m=\u001b[0m\u001b[0mparams\u001b[0m\u001b[0;34m)\u001b[0m\u001b[0;34m\u001b[0m\u001b[0;34m\u001b[0m\u001b[0m\n\u001b[0;32m----> 8\u001b[0;31m \u001b[0mexchange_rates\u001b[0m \u001b[0;34m=\u001b[0m \u001b[0mresponse\u001b[0m\u001b[0;34m.\u001b[0m\u001b[0mjson\u001b[0m\u001b[0;34m(\u001b[0m\u001b[0;34m)\u001b[0m\u001b[0;34m[\u001b[0m\u001b[0;34m\"rates\"\u001b[0m\u001b[0;34m]\u001b[0m\u001b[0;34m\u001b[0m\u001b[0;34m\u001b[0m\u001b[0m\n\u001b[0m\u001b[1;32m      9\u001b[0m \u001b[0;34m\u001b[0m\u001b[0m\n\u001b[1;32m     10\u001b[0m \u001b[0;31m# 사용자로부터 입력받은 값으로 환율 계산하기\u001b[0m\u001b[0;34m\u001b[0m\u001b[0;34m\u001b[0m\u001b[0m\n",
            "\u001b[0;31mKeyError\u001b[0m: 'rates'"
          ]
        }
      ]
    },
    {
      "cell_type": "code",
      "source": [
        "import requests\n",
        "\n",
        "# fixer.io에서 환율 정보 가져오기\n",
        "api_key = \"YOUR_API_KEY\"  # fixer.io에서 발급받은 API 키 입력\n",
        "base_url = \"http://data.fixer.io/api/latest\"\n",
        "params = {\"access_key\": api_key}\n",
        "response = requests.get(base_url, params=params)\n",
        "json_data = response.json()\n",
        "\n",
        "# JSON 데이터 출력하기\n",
        "print(json_data)\n"
      ],
      "metadata": {
        "id": "SJpTk-hfSBkd",
        "outputId": "ddc20955-7722-45ae-9c71-017c10e64416",
        "colab": {
          "base_uri": "https://localhost:8080/"
        }
      },
      "execution_count": null,
      "outputs": [
        {
          "output_type": "stream",
          "name": "stdout",
          "text": [
            "{'success': False, 'error': {'code': 101, 'type': 'invalid_access_key', 'info': 'You have not supplied a valid API Access Key. [Technical Support: support@apilayer.com]'}}\n"
          ]
        }
      ]
    }
  ]
}