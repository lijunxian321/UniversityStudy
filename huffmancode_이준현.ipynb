{
  "nbformat": 4,
  "nbformat_minor": 0,
  "metadata": {
    "colab": {
      "provenance": [],
      "collapsed_sections": [],
      "authorship_tag": "ABX9TyNomabYii4dnd+KQ6ABOTei",
      "include_colab_link": true
    },
    "kernelspec": {
      "name": "python3",
      "display_name": "Python 3"
    },
    "language_info": {
      "name": "python"
    }
  },
  "cells": [
    {
      "cell_type": "markdown",
      "metadata": {
        "id": "view-in-github",
        "colab_type": "text"
      },
      "source": [
        "<a href=\"https://colab.research.google.com/github/lijunxian321/lijunxian321/blob/main/huffmancode_%EC%9D%B4%EC%A4%80%ED%98%84.ipynb\" target=\"_parent\"><img src=\"https://colab.research.google.com/assets/colab-badge.svg\" alt=\"Open In Colab\"/></a>"
      ]
    },
    {
      "cell_type": "code",
      "execution_count": 23,
      "metadata": {
        "id": "H5Csc4YYm93y",
        "colab": {
          "base_uri": "https://localhost:8080/"
        },
        "outputId": "1f843f13-bbe6-488a-ba5a-7ca447bbf111"
      },
      "outputs": [
        {
          "output_type": "stream",
          "name": "stdout",
          "text": [
            "6\n",
            "45\n",
            "13\n",
            "12\n",
            "16\n",
            "9\n",
            "5\n",
            "0\n",
            "101\n",
            "100\n",
            "111\n",
            "1101\n",
            "1100\n"
          ]
        }
      ],
      "source": [
        "import heapq\n",
        "\n",
        "class Huffmantreenode(object):\n",
        "  def __init__(self,freq=int,left=None,right=None):\n",
        "      self.freq = freq\n",
        "      self.left = left\n",
        "      self.right = right\n",
        "  def __lt__(self, other):\n",
        "    return self.freq < other.freq\n",
        "\n",
        "def isLeaf(root):\n",
        "    return root.left is None and root.right is None\n",
        "\n",
        "def encode(root, s, Huffmancode):\n",
        " \n",
        "    if root is None:\n",
        "        return\n",
        " \n",
        "    if isLeaf(root):\n",
        "        Huffmancode[root.freq] = s if len(s) > 0 else '1'\n",
        " \n",
        "    encode(root.left, s + '0', Huffmancode)\n",
        "    encode(root.right, s + '1', Huffmancode)\n",
        "\n",
        "def printcode(A, Huffmancode):\n",
        "    for j in A:\n",
        "       for i in Huffmancode.keys():\n",
        "        if j == i :\n",
        "          print(Huffmancode[j])\n",
        "def Huffman(A):\n",
        "    n = len(A)\n",
        "    Q = [Huffmantreenode(i) for i in A]\n",
        "    heapq.heapify(Q)\n",
        "    while len(Q) != 1:\n",
        "        z = Huffmantreenode()\n",
        "        z.left = x = heapq.heappop(Q)\n",
        "        z.right = y = heapq.heappop(Q)\n",
        "        z.freq = x.freq + y.freq\n",
        "        heapq.heappush(Q, z)\n",
        "    root = Q[0]\n",
        "    Huffmancode = {}\n",
        "    encode(root, '', Huffmancode)\n",
        "    printcode(A, Huffmancode)\n",
        "\n",
        "n = int(input())\n",
        "A = []\n",
        "\n",
        "for i in range(n):\n",
        "  A.append(int(input()))\n",
        "\n",
        "Huffman(A)\n"
      ]
    },
    {
      "cell_type": "code",
      "source": [
        "'''\n",
        "    huffman编码\n",
        "'''\n",
        "import copy\n",
        "\n",
        "class Node:\n",
        "    def __init__(self, name, weight):\n",
        "        self.name = name #节点名\n",
        "        self.weight = weight #节点权重\n",
        "        self.left = None #节点左孩子\n",
        "        self.right = None #节点右孩子\n",
        "        self.father = None # 节点父节点\n",
        "    #判断是否是左孩子\n",
        "    def is_left_child(self):\n",
        "        return self.father.left == self\n",
        "\n",
        "#创建最初的叶子节点\n",
        "def create_prim_nodes(data_set, labels):\n",
        "    if(len(data_set) != len(labels)):\n",
        "        raise Exception('数据和标签不匹配!')\n",
        "    nodes = []\n",
        "    for i in range(len(labels)):\n",
        "        nodes.append( Node(labels[i],data_set[i]) )\n",
        "    return nodes\n",
        "\n",
        "\n",
        "# 创建huffman树\n",
        "def create_HF_tree(nodes):\n",
        "    #此处注意，copy()属于浅拷贝，只拷贝最外层元素，内层嵌套元素则通过引用，而不是独立分配内存\n",
        "    tree_nodes = nodes.copy() \n",
        "    while len(tree_nodes) > 1: #只剩根节点时，退出循环\n",
        "        tree_nodes.sort(key=lambda node: node.weight)#升序排列\n",
        "        new_left = tree_nodes.pop(0)\n",
        "        new_right = tree_nodes.pop(0)\n",
        "        new_node = Node(None, (new_left.weight + new_right.weight))\n",
        "        new_node.left = new_left\n",
        "        new_node.right = new_right\n",
        "        new_left.father = new_right.father = new_node\n",
        "        tree_nodes.append(new_node)\n",
        "    tree_nodes[0].father = None #根节点父亲为None\n",
        "    return tree_nodes[0] #返回根节点\n",
        "\n",
        "#获取huffman编码\n",
        "def get_huffman_code(nodes):\n",
        "    codes = {}\n",
        "    for node in nodes:\n",
        "        code=''\n",
        "        name = node.name\n",
        "        while node.father != None:\n",
        "            if node.is_left_child():\n",
        "                code = '0' + code\n",
        "            else:\n",
        "                code = '1' + code\n",
        "            node = node.father\n",
        "        codes[name] = code\n",
        "    return codes\n",
        "\n",
        "\n",
        "if __name__ == '__main__':\n",
        "    labels = ['a','b','c','d','e','f']\n",
        "    data_set = [9,12,6,3,5,15]\n",
        "    nodes = create_prim_nodes(data_set,labels)#创建初始叶子节点\n",
        "    root = create_HF_tree(nodes)#创建huffman树\n",
        "    codes = get_huffman_code(root, nodes)#获取huffman编码\n",
        "    #打印huffman码\n",
        "    for key in codes.keys():\n",
        "        print(key,': ',codes[key])\n"
      ],
      "metadata": {
        "id": "oRV6AwBtWz_e"
      },
      "execution_count": null,
      "outputs": []
    }
  ]
}