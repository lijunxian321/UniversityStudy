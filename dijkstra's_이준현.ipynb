class Graph:
    def __init__(self):
        self.V = []
        self.w = {}

class Vertex:
    def __init__(self, x):
        self.key = x
        self.color = 'white'
        self.d = 10000
        self.pi = None
        self.adj = []

class Solution():
    def InitializeSingleSource(self, G, s):
        for v in G.V:
            v.d = 10000
            v.pi = None
        s.d = 0

    def Relax(self, u, v, w):
        if v.d > u.d + w[(u.key, v.key)]:
            v.d = u.d + w[(u.key, v.key)]
            v.pi = u

    def Dijkstra(self, G, w, s):
        self.InitializeSingleSource(G, s)
        S = set()
        Q = G.V[:]
        while Q != []:
            u = self.ExtractMin(Q, S)
            S.add(u)
            for v in u.adj:
              for i in G.V:
                if v == i.key:
                  self.Relax(u, i, w)

    def ExtractMin(self, Q, S):
        Q.sort(key=lambda v: v.d)
        return Q.pop(0)

if __name__ == '__main__':
    a = input().split(',')
    G = Graph()
    for i in a:
      i = Vertex(i)
      G.V += [i]
    n = int(input())
    for i in range(n):
      a = input().split(',')
      G.w[(a[0],a[1])] = int(a[2])
    for (a,b) in G.w.keys():
      for j in G.V:
        if j.key == a:
          j.adj += b

    m = Solution()
    m.Dijkstra(G, G.w, G.V[0])


    for v in G.V:
      print (v.d)
