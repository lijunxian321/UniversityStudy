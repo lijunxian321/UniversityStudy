{
  "nbformat": 4,
  "nbformat_minor": 0,
  "metadata": {
    "colab": {
      "provenance": [],
      "collapsed_sections": [],
      "authorship_tag": "ABX9TyNP0vZBTAJ7CkyUlfTouWTd",
      "include_colab_link": true
    },
    "kernelspec": {
      "name": "python3",
      "display_name": "Python 3"
    },
    "language_info": {
      "name": "python"
    }
  },
  "cells": [
    {
      "cell_type": "markdown",
      "metadata": {
        "id": "view-in-github",
        "colab_type": "text"
      },
      "source": [
        "<a href=\"https://colab.research.google.com/github/lijunxian321/lijunxian321/blob/main/max_subarray.ipynb\" target=\"_parent\"><img src=\"https://colab.research.google.com/assets/colab-badge.svg\" alt=\"Open In Colab\"/></a>"
      ]
    },
    {
      "cell_type": "code",
      "execution_count": 24,
      "metadata": {
        "colab": {
          "base_uri": "https://localhost:8080/"
        },
        "id": "F8gWgRbhRYPi",
        "outputId": "a86bc436-4e07-4450-8243-d4c22674c04b"
      },
      "outputs": [
        {
          "output_type": "stream",
          "name": "stdout",
          "text": [
            "5\n",
            "3\n",
            "-1\n",
            "6\n",
            "-5\n",
            "-10\n",
            "0\n",
            "2\n",
            "8\n"
          ]
        }
      ],
      "source": [
        "def f_max_cross(A,l,m,h):\n",
        "   \n",
        "    left_sum=float(\"-inf\")\n",
        "    sum=0\n",
        "    for i in range(m,l-1,-1):\n",
        "        sum+=A[i]\n",
        "        if sum>left_sum:\n",
        "            left_sum=sum\n",
        "            max_left=i\n",
        "    right_sum=float(\"-inf\")\n",
        "    sum=0\n",
        "    for j in range(m+1,h+1):\n",
        "        sum+=A[j]\n",
        "        if sum>right_sum:\n",
        "            right_sum=sum\n",
        "            max_right=j\n",
        "    return (max_left,max_right,left_sum+right_sum)\n",
        "def f_max(A,l,h):\n",
        "\n",
        "    if h==l:\n",
        "        return (l,h,A[l])\n",
        "    else:\n",
        "        m=(l+h)//2\n",
        "        (left_l,left_h,left_sum)=f_max(A,l,m)\n",
        "        (right_l,right_h,right_sum)=f_max(A,m+1,h)\n",
        "        (cross_l,cross_h,cross_sum)=f_max_cross(A,l,m,h)\n",
        "        if left_sum>=right_sum and left_sum>=cross_sum:\n",
        "            return (left_l,left_h,left_sum)\n",
        "        elif right_sum>=left_sum and right_sum>=cross_sum:\n",
        "            return (right_l,right_h,right_sum)\n",
        "        else:\n",
        "            return (cross_l,cross_h,cross_sum)\n",
        "A=[]\n",
        "n = int(input())\n",
        "for i in range(n):\n",
        "    A.append(int(input()))\n",
        " \n",
        "\n",
        "for i in (f_max(A,0,len(A)-1)):\n",
        "    print(i)"
      ]
    }
  ]
}