{
  "nbformat": 4,
  "nbformat_minor": 0,
  "metadata": {
    "colab": {
      "provenance": [],
      "authorship_tag": "ABX9TyNOZGcRFpsVFROk2BpJEjgg",
      "include_colab_link": true
    },
    "kernelspec": {
      "name": "python3",
      "display_name": "Python 3"
    },
    "language_info": {
      "name": "python"
    }
  },
  "cells": [
    {
      "cell_type": "markdown",
      "metadata": {
        "id": "view-in-github",
        "colab_type": "text"
      },
      "source": [
        "<a href=\"https://colab.research.google.com/github/lijunxian321/lijunxian321/blob/main/rud_cut.ipynb\" target=\"_parent\"><img src=\"https://colab.research.google.com/assets/colab-badge.svg\" alt=\"Open In Colab\"/></a>"
      ]
    },
    {
      "cell_type": "code",
      "execution_count": null,
      "metadata": {
        "colab": {
          "base_uri": "https://localhost:8080/"
        },
        "id": "dCJ16bLBSuVt",
        "outputId": "9ac12219-8a5a-4fb8-9774-20cae1fb499d"
      },
      "outputs": [
        {
          "output_type": "stream",
          "name": "stdout",
          "text": [
            "4\n",
            "1\n",
            "5\n",
            "8\n",
            "9\n",
            "10\n",
            "2\n",
            "2\n"
          ]
        }
      ],
      "source": [
        "\n",
        "def extended_bottom_up_cut_rod(p, n):\n",
        "    r = [0 for _ in range(n+1)]\n",
        "    s = [0 for _ in range(n+1)]\n",
        "    for j in range(1, n+1):\n",
        "        q = float(\"-inf\")\n",
        "        for i in range(1,j+1):\n",
        "          if q < p[i-1]+r[j-i]:\n",
        "                  q = p[i-1]+r[j-i]\n",
        "                  s[j] = i\n",
        "        r[j] = q\n",
        "    return r,s\n",
        "\n",
        "def cut_rod_solution(p, n):\n",
        "    (r,s) = extended_bottom_up_cut_rod(p, n)\n",
        "    cut_solution = [max(r)]\n",
        "    while n > 0:\n",
        "        cut_solution.append(s[n])\n",
        "        n -= s[n]\n",
        "    return cut_solution\n",
        "\n",
        "p = []\n",
        "n=int(input())\n",
        "for i in range(n):\n",
        "    p.append(int(input()))\n",
        " \n",
        "\n",
        "for i in (cut_rod_solution(p, n)):\n",
        "    print(i)\n",
        "\n"
      ]
    }
  ]
}